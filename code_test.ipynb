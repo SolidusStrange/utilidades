{
 "cells": [
  {
   "cell_type": "code",
   "execution_count": null,
   "id": "08379afa",
   "metadata": {},
   "outputs": [
    {
     "name": "stdout",
     "output_type": "stream",
     "text": [
      "\n",
      "No hay tareas registradas\n",
      "1. [completado] Estudiar (estudio) - 2025-08-26\n"
     ]
    }
   ],
   "source": [
    "tareas = [{\n",
    "    \"dia\": \"2025-08-26\",\n",
    "    \"tarea\": \"Estudiar\",\n",
    "    \"categoria\": \"estudio\",\n",
    "    \"estado\": \"pendiente\"\n",
    "}] \n",
    "\n",
    "def cambiar_estado(nombre_tarea):\n",
    "    for t in tareas: #t es un diccionario, por lo que tareas[t] está mal\n",
    "        if t[\"tarea\"] == nombre_tarea:\n",
    "            t[\"estado\"] = \"completado\"\n",
    "\n",
    "def mostrar_tareas():\n",
    "    if not tareas: # Si la lista tarea no contiene nada\n",
    "        print(\"No hay tareas registradas\")\n",
    "    else:\n",
    "        print(\"\\nNo hay tareas registradas\")\n",
    "        for i, t in enumerate(tareas, start= 1):\n",
    "            print(f\"{i}. [{t['estado']}] {t['tarea']} ({t['categoria']}) - {t['dia']}\")\n",
    "\n",
    "cambiar_estado(\"Estudiar\")\n",
    "\n",
    "mostrar_tareas()"
   ]
  },
  {
   "cell_type": "code",
   "execution_count": null,
   "id": "83b10ac8",
   "metadata": {},
   "outputs": [
    {
     "name": "stdout",
     "output_type": "stream",
     "text": [
      "\n",
      "Lista de tareas: \n",
      "1. [pendiente] Estudiar (estudio) - 2025-08-26\n",
      "\n",
      "Lista de tareas: \n",
      "1. [completado] Estudiar (estudio) - 2025-08-26\n"
     ]
    }
   ],
   "source": [
    "# Con indices. Mas seguro y evita duplicados\n",
    "\n",
    "tareas = [{\n",
    "    \"dia\": \"2025-08-26\",\n",
    "    \"tarea\": \"Estudiar\",\n",
    "    \"categoria\": \"estudio\",\n",
    "    \"estado\": \"pendiente\"\n",
    "}] \n",
    "\n",
    "def cambiar_estado(indice_usuario):\n",
    "    tareas[indice_usuario][\"estado\"] = \"completado\"\n",
    "\n",
    "def mostrar_tareas():\n",
    "    if not tareas: # Si la lista tarea no contiene nada\n",
    "        print(\"No hay tareas registradas\")\n",
    "    else:\n",
    "        print(\"\\nLista de tareas: \")\n",
    "        for i, t in enumerate(tareas, start= 1):\n",
    "            print(f\"{i}. [{t['estado']}] {t['tarea']} ({t['categoria']}) - {t['dia']}\")\n",
    "\n",
    "if tareas:\n",
    "    mostrar_tareas()\n",
    "    indice_usuario = int(input(\"Número de tarea a completar: \")) - 1\n",
    "    cambiar_estado(indice_usuario)\n",
    "else:\n",
    "    print(\"No hay tareas registradas\")\n",
    "\n",
    "mostrar_tareas()"
   ]
  }
 ],
 "metadata": {
  "kernelspec": {
   "display_name": "Python 3",
   "language": "python",
   "name": "python3"
  },
  "language_info": {
   "codemirror_mode": {
    "name": "ipython",
    "version": 3
   },
   "file_extension": ".py",
   "mimetype": "text/x-python",
   "name": "python",
   "nbconvert_exporter": "python",
   "pygments_lexer": "ipython3",
   "version": "3.13.5"
  }
 },
 "nbformat": 4,
 "nbformat_minor": 5
}
